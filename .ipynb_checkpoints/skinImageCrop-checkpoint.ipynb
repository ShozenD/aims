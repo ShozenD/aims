{
 "cells": [
  {
   "cell_type": "code",
   "execution_count": null,
   "metadata": {},
   "outputs": [],
   "source": [
    "import cv2\n",
    "import numpy as np\n",
    "import glob\n",
    "from skin_detect import skinDetector\n",
    "import matplotlib.pyplot as plt"
   ]
  },
  {
   "cell_type": "code",
   "execution_count": null,
   "metadata": {},
   "outputs": [],
   "source": [
    "img_paths = glob.glob('images/*')"
   ]
  },
  {
   "cell_type": "code",
   "execution_count": null,
   "metadata": {},
   "outputs": [],
   "source": [
    "def skinImageCrop(image_path):    \n",
    "    # 肌探知アルゴリズムreq\n",
    "    skindetector = skinDetector(image_path)\n",
    "    skindetector.find_skin()\n",
    "    \n",
    "    # 4段階のBlurとThresholdをかけてノイズを除去する\n",
    "    blurred = cv2.GaussianBlur(skindetector.binary_mask_image, (5, 5), 0)\n",
    "    _, thresh = cv2.threshold(blurred, 254, 255, 0)\n",
    "    blurred = cv2.blur(skindetector.binary_mask_image, (100, 100))\n",
    "    _, thresh = cv2.threshold(blurred, 250, 255, 0)\n",
    "    blurred = cv2.blur(skindetector.binary_mask_image, (50, 50))\n",
    "    _, thresh = cv2.threshold(blurred, 250, 255, 0)\n",
    "    blurred = cv2.blur(skindetector.binary_mask_image, (25, 25))\n",
    "    _, thresh = cv2.threshold(blurred, 250, 255, 0)\n",
    "    \n",
    "    #　輪郭探知\n",
    "    contours, hierarchy = cv2.findContours(thresh, cv2.RETR_TREE, cv2.CHAIN_APPROX_SIMPLE)\n",
    "    contours_area = [cv2.contourArea(con) for con in contours] # 輪郭内の面積\n",
    "    target = contours[np.argmax(contours_area)] # 面積が最大のものが肌\n",
    "    \n",
    "    # 輪郭を多面体で近似してバウンディングボックスを取得する\n",
    "    polygon = cv2.approxPolyDP(target, 3, True)\n",
    "    x,y,w,h = cv2.boundingRect(polygon)\n",
    "    centers, radius = cv2.minEnclosingCircle(polygon)\n",
    "    \n",
    "    # 多面体に外接しているバウンディングボックスを内接するように縮める\n",
    "    shrink = np.rint(radius*(1 - np.cos(np.pi/4)))\n",
    "    offset = 10 # 微調整\n",
    "    x = round(x + shrink + offset)\n",
    "    y = round(y + shrink + offset)\n",
    "    w = round(w - 2*(shrink + offset))\n",
    "    h = round(h - 2*(shrink + offset))\n",
    "    \n",
    "    #　クロップ\n",
    "    return skindetector.image[y:y+w,x:x+h,:]"
   ]
  },
  {
   "cell_type": "code",
   "execution_count": null,
   "metadata": {},
   "outputs": [],
   "source": [
    "for idx, img in enumerate(img_paths):\n",
    "    try:\n",
    "        cropped = skinImageCrop(img)\n",
    "        cv2.imwrite('image/' + str(idx) + '_cropped.jpg', cropped)\n",
    "    except ValueError:\n",
    "        continue"
   ]
  }
 ],
 "metadata": {
  "kernelspec": {
   "display_name": "aims",
   "language": "python",
   "name": "aims"
  },
  "language_info": {
   "codemirror_mode": {
    "name": "ipython",
    "version": 3
   },
   "file_extension": ".py",
   "mimetype": "text/x-python",
   "name": "python",
   "nbconvert_exporter": "python",
   "pygments_lexer": "ipython3",
   "version": "3.7.8"
  }
 },
 "nbformat": 4,
 "nbformat_minor": 4
}
