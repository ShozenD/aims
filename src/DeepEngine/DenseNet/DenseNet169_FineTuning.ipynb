{
 "cells": [
  {
   "cell_type": "code",
   "execution_count": 10,
   "metadata": {},
   "outputs": [],
   "source": [
    "# Standard library imports\n",
    "import re\n",
    "import glob\n",
    "import pandas as pd\n",
    "import numpy as np\n",
    "import matplotlib.pyplot as plt\n",
    "from tqdm import tqdm\n",
    "from sklearn.model_selection import train_test_split\n",
    "\n",
    "# Keras and Tensorflow imports\n",
    "import tensorflow as tf\n",
    "import keras\n",
    "from keras.preprocessing import image\n",
    "from keras.preprocessing.image import ImageDataGenerator\n",
    "from keras.layers import Dense, BatchNormalization, Dropout, GlobalAveragePooling2D\n",
    "from keras.regularizers import l2"
   ]
  },
  {
   "cell_type": "code",
   "execution_count": 3,
   "metadata": {},
   "outputs": [],
   "source": [
    "# Image directory and csv path\n",
    "image_dir = \"./ISIC-images\"\n",
    "csv_label = pd.read_csv(\"class_label1.csv\")\n",
    "one_hot = pd.get_dummies(csv_label[\"category\"])\n",
    "data_df = pd.concat([csv_label, one_hot], axis=1)\n",
    "\n",
    "train_df, test_df = train_test_split(data_df, random_state = 80, test_size=0.2)"
   ]
  },
  {
   "cell_type": "code",
   "execution_count": 6,
   "metadata": {},
   "outputs": [],
   "source": [
    "# Parameters\n",
    "BATCH_SIZE = 32\n",
    "TARGET_SIZE = (224, 224)\n",
    "INPUT_SHAPE = (224, 224, 3)"
   ]
  },
  {
   "cell_type": "code",
   "execution_count": 4,
   "metadata": {},
   "outputs": [
    {
     "name": "stdout",
     "output_type": "stream",
     "text": [
      "Found 18956 validated image filenames.\n",
      "Found 4739 validated image filenames.\n"
     ]
    }
   ],
   "source": [
    "# Data Generator\n",
    "train_datagen = ImageDataGenerator(rescale = 1./255)\n",
    "test_datagen = ImageDataGenerator(rescale = 1./255)\n",
    "\n",
    "train_generator = train_datagen.flow_from_dataframe(\n",
    "    train_df,\n",
    "    directory = image_dir,\n",
    "    x_col = \"name\",\n",
    "    y_col = [\"AKIEC\",\"BCC\",\"BKL\",\"DF\",\"MEL\",\"NV\",\"VASC\"],\n",
    "    target_size = TARGET_SIZE,\n",
    "    batch_size = BATCH_SIZE,\n",
    "    class_mode = \"raw\"\n",
    ")\n",
    "\n",
    "test_generator = test_datagen.flow_from_dataframe(\n",
    "    test_df,\n",
    "    directory = image_dir,\n",
    "    x_col = \"name\",\n",
    "    y_col = [\"AKIEC\",\"BCC\",\"BKL\",\"DF\",\"MEL\",\"NV\",\"VASC\"],\n",
    "    target_size = TARGET_SIZE,\n",
    "    batch_size = BATCH_SIZE,\n",
    "    class_mode = \"raw\"\n",
    ")"
   ]
  },
  {
   "cell_type": "code",
   "execution_count": 8,
   "metadata": {},
   "outputs": [],
   "source": [
    "# Define Encoder\n",
    "densenet = tf.keras.applications.DenseNet169(\n",
    "    include_top = False, \n",
    "    weights = \"imagenet\",\n",
    "    input_shape = INPUT_SHAPE, \n",
    "  )\n",
    "\n",
    "# Unfreeze the last conv block\n",
    "densenet.Trainable = True\n",
    "for layer in densenet.layers:\n",
    "    if re.match(\"^conv5_block*\", layer.name) is not None:\n",
    "        set_trainable = True\n",
    "    if set_trainable:\n",
    "        layer.trainable = True\n",
    "    else:\n",
    "        layer.trainable = False\n",
    "\n",
    "# Define Network\n",
    "x = GlobalAveragePooling2D()(densenet.output)\n",
    "x = Dense(units = 256, activation = 'relu')(x)\n",
    "x = Dropout(0.4)(x)\n",
    "x = BatchNormalization()(x)\n",
    "x = Dense(units = 128, activation = 'relu')(x)\n",
    "x = Dropout(0.1)(x)\n",
    "x = Dense(units = 64, activation = 'relu')(x)\n",
    "pred = Dense(units = 7, activation = 'softmax', kernel_regularizer = l2(l = 0.01))(x)\n",
    "\n",
    "model = keras.models.Model(inputs = densenet.input, outputs = pred)\n",
    "model.load_weights('cp-0016.h5')\n",
    "\n",
    "# model.summary()"
   ]
  },
  {
   "cell_type": "code",
   "execution_count": 6,
   "metadata": {},
   "outputs": [],
   "source": [
    "# Compile Model\n",
    "model.compile(\n",
    "    optimizer = tf.keras.optimizers.Adam(lr=1e-5), # Set very low learning rate to avoid overfitting\n",
    "    loss = 'categorical_crossentropy',\n",
    "    metrics   = ['accuracy']\n",
    "  )"
   ]
  },
  {
   "cell_type": "code",
   "execution_count": 9,
   "metadata": {},
   "outputs": [],
   "source": [
    "checkpoint_filepath = './tmp/checkpoint'\n",
    "model_checkpoint_callback = tf.keras.callbacks.ModelCheckpoint(\n",
    "    filepath=checkpoint_filepath,\n",
    "    save_weights_only=False,\n",
    "    monitor='val_acc',\n",
    "    save_freq=2960,\n",
    "    mode='auto',\n",
    "    save_best_only=False)"
   ]
  },
  {
   "cell_type": "code",
   "execution_count": 10,
   "metadata": {},
   "outputs": [
    {
     "name": "stdout",
     "output_type": "stream",
     "text": [
      "Epoch 1/30\n",
      "592/592 [==============================] - 901s 2s/step - loss: 0.6787 - accuracy: 0.7859 - val_loss: 0.6117 - val_accuracy: 0.7948\n",
      "Epoch 2/30\n",
      "592/592 [==============================] - 864s 1s/step - loss: 0.5728 - accuracy: 0.7927 - val_loss: 0.6684 - val_accuracy: 0.7998\n",
      "Epoch 3/30\n",
      "592/592 [==============================] - 859s 1s/step - loss: 0.5330 - accuracy: 0.8053 - val_loss: 0.5629 - val_accuracy: 0.7958\n",
      "Epoch 4/30\n",
      "592/592 [==============================] - 861s 1s/step - loss: 0.5208 - accuracy: 0.8126 - val_loss: 0.5970 - val_accuracy: 0.8112\n",
      "Epoch 5/30\n",
      "591/592 [============================>.] - ETA: 1s - loss: 0.4989 - accuracy: 0.8167INFO:tensorflow:Assets written to: ./tmp\\checkpoint\\assets\n",
      "592/592 [==============================] - 909s 2s/step - loss: 0.4990 - accuracy: 0.8167 - val_loss: 0.5425 - val_accuracy: 0.8009\n",
      "Epoch 6/30\n",
      "592/592 [==============================] - 866s 1s/step - loss: 0.4835 - accuracy: 0.8207 - val_loss: 0.5806 - val_accuracy: 0.7990\n",
      "Epoch 7/30\n",
      "592/592 [==============================] - 868s 1s/step - loss: 0.4669 - accuracy: 0.8263 - val_loss: 0.4472 - val_accuracy: 0.8353\n",
      "Epoch 8/30\n",
      "592/592 [==============================] - 867s 1s/step - loss: 0.4595 - accuracy: 0.8307 - val_loss: 0.7497 - val_accuracy: 0.7399\n",
      "Epoch 9/30\n",
      "592/592 [==============================] - 866s 1s/step - loss: 0.4542 - accuracy: 0.8319 - val_loss: 0.6557 - val_accuracy: 0.7897\n",
      "Epoch 10/30\n",
      "591/592 [============================>.] - ETA: 1s - loss: 0.4304 - accuracy: 0.8407INFO:tensorflow:Assets written to: ./tmp\\checkpoint\\assets\n",
      "592/592 [==============================] - 920s 2s/step - loss: 0.4309 - accuracy: 0.8405 - val_loss: 0.5255 - val_accuracy: 0.8298\n",
      "Epoch 11/30\n",
      "592/592 [==============================] - 899s 2s/step - loss: 0.4212 - accuracy: 0.8453 - val_loss: 0.6396 - val_accuracy: 0.8036\n",
      "Epoch 12/30\n",
      "592/592 [==============================] - 898s 2s/step - loss: 0.4073 - accuracy: 0.8503 - val_loss: 0.5586 - val_accuracy: 0.8237\n",
      "Epoch 13/30\n",
      "592/592 [==============================] - 953s 2s/step - loss: 0.4096 - accuracy: 0.8473 - val_loss: 0.5756 - val_accuracy: 0.8144\n",
      "Epoch 14/30\n",
      "592/592 [==============================] - 922s 2s/step - loss: 0.4622 - accuracy: 0.8316 - val_loss: 0.8650 - val_accuracy: 0.7905\n",
      "Epoch 15/30\n",
      "591/592 [============================>.] - ETA: 1s - loss: 0.6199 - accuracy: 0.7966INFO:tensorflow:Assets written to: ./tmp\\checkpoint\\assets\n",
      "592/592 [==============================] - 949s 2s/step - loss: 0.6194 - accuracy: 0.7967 - val_loss: 0.8748 - val_accuracy: 0.7473\n",
      "Epoch 16/30\n",
      "592/592 [==============================] - 916s 2s/step - loss: 0.8680 - accuracy: 0.7616 - val_loss: 0.8957 - val_accuracy: 0.7867\n",
      "Epoch 17/30\n",
      "592/592 [==============================] - 915s 2s/step - loss: 1.2641 - accuracy: 0.7413 - val_loss: 2.1073 - val_accuracy: 0.4975\n",
      "Epoch 18/30\n",
      "592/592 [==============================] - 916s 2s/step - loss: 2.0934 - accuracy: 0.7229 - val_loss: 10.0038 - val_accuracy: 0.7889\n",
      "Epoch 19/30\n",
      "592/592 [==============================] - 917s 2s/step - loss: 2.9724 - accuracy: 0.7196 - val_loss: 3.6241 - val_accuracy: 0.7889\n",
      "Epoch 20/30\n",
      "591/592 [============================>.] - ETA: 1s - loss: 5.1350 - accuracy: 0.7017INFO:tensorflow:Assets written to: ./tmp\\checkpoint\\assets\n",
      "592/592 [==============================] - 970s 2s/step - loss: 5.1491 - accuracy: 0.7018 - val_loss: 4.2004 - val_accuracy: 0.7886\n",
      "Epoch 21/30\n",
      "592/592 [==============================] - 928s 2s/step - loss: 5.7985 - accuracy: 0.6930 - val_loss: 3.5158 - val_accuracy: 0.5562\n",
      "Epoch 22/30\n",
      "592/592 [==============================] - 929s 2s/step - loss: 8.9733 - accuracy: 0.6898 - val_loss: 52.8304 - val_accuracy: 0.0443\n",
      "Epoch 23/30\n",
      "592/592 [==============================] - 929s 2s/step - loss: 12.2169 - accuracy: 0.6875 - val_loss: 10.5434 - val_accuracy: 0.7886\n",
      "Epoch 24/30\n",
      "592/592 [==============================] - 929s 2s/step - loss: 14.6273 - accuracy: 0.6810 - val_loss: 11.4481 - val_accuracy: 0.5788\n",
      "Epoch 25/30\n",
      "591/592 [============================>.] - ETA: 1s - loss: 25.5967 - accuracy: 0.6671INFO:tensorflow:Assets written to: ./tmp\\checkpoint\\assets\n",
      "592/592 [==============================] - 985s 2s/step - loss: 25.6071 - accuracy: 0.6671 - val_loss: 17.3944 - val_accuracy: 0.7886\n",
      "Epoch 26/30\n",
      "592/592 [==============================] - 960s 2s/step - loss: 30.9849 - accuracy: 0.6651 - val_loss: 22.3723 - val_accuracy: 0.7886\n",
      "Epoch 27/30\n",
      "592/592 [==============================] - 958s 2s/step - loss: 31.5168 - accuracy: 0.6683 - val_loss: 38.7488 - val_accuracy: 0.7886\n",
      "Epoch 28/30\n",
      "592/592 [==============================] - 958s 2s/step - loss: 39.0245 - accuracy: 0.6679 - val_loss: 25.8725 - val_accuracy: 0.7853\n",
      "Epoch 29/30\n",
      "592/592 [==============================] - 960s 2s/step - loss: 52.4995 - accuracy: 0.6639 - val_loss: 126.8045 - val_accuracy: 0.7882\n",
      "Epoch 30/30\n",
      "591/592 [============================>.] - ETA: 1s - loss: 60.3158 - accuracy: 0.6661INFO:tensorflow:Assets written to: ./tmp\\checkpoint\\assets\n",
      "592/592 [==============================] - 1015s 2s/step - loss: 60.2368 - accuracy: 0.6663 - val_loss: 20.8386 - val_accuracy: 0.7713\n"
     ]
    }
   ],
   "source": [
    "# Fit model\n",
    "history = model.fit(\n",
    "    train_generator,\n",
    "    steps_per_epoch = 592,\n",
    "    epochs = 30,\n",
    "    validation_data = test_generator,\n",
    "    validation_steps = 148,\n",
    "    callbacks=[model_checkpoint_callback]\n",
    "  )"
   ]
  },
  {
   "cell_type": "code",
   "execution_count": 11,
   "metadata": {},
   "outputs": [],
   "source": [
    "model.save('./densenet_skin_finetuned.h5')"
   ]
  },
  {
   "cell_type": "code",
   "execution_count": 12,
   "metadata": {},
   "outputs": [],
   "source": [
    "acc = history.history['accuracy']\n",
    "val_acc = history.history['val_accuracy']\n",
    "loss = history.history['loss']\n",
    "val_loss = history.history['val_loss']"
   ]
  },
  {
   "cell_type": "code",
   "execution_count": 15,
   "metadata": {},
   "outputs": [
    {
     "data": {
      "text/plain": [
       "[<matplotlib.lines.Line2D at 0x230988a34c8>]"
      ]
     },
     "execution_count": 15,
     "metadata": {},
     "output_type": "execute_result"
    },
    {
     "data": {
      "image/png": "[encoded data removed]",
      "text/plain": [
       "<Figure size 432x288 with 1 Axes>"
      ]
     },
     "metadata": {
      "needs_background": "light"
     },
     "output_type": "display_data"
    }
   ],
   "source": [
    "%matplotlib inline\n",
    "\n",
    "epochs = range(len(loss))\n",
    "plt.plot(epochs, loss, \"bo\", label=\"Training loss\")\n",
    "plt.plot(epochs, val_loss, \"b\", label=\"validation loss\")\n",
    "plt.title(\"Training and validation loss\")\n",
    "plt.legend()"
   ]
  },
  {
   "cell_type": "code",
   "execution_count": 16,
   "metadata": {},
   "outputs": [
    {
     "data": {
      "text/plain": [
       "[<matplotlib.lines.Line2D at 0x230973d1a88>]"
      ]
     },
     "execution_count": 16,
     "metadata": {},
     "output_type": "execute_result"
    },
    {
     "data": {
      "image/png": "[encoded data removed]",
      "text/plain": [
       "<Figure size 432x288 with 1 Axes>"
      ]
     },
     "metadata": {
      "needs_background": "light"
     },
     "output_type": "display_data"
    }
   ],
   "source": [
    "plt.plot(epochs, acc, \"bo\", label=\"Training loss\")\n",
    "plt.plot(epochs, val_acc, \"b\", label=\"validation loss\")\n",
    "plt.title(\"Training and validation accuracy\")\n",
    "plt.legend()"
   ]
  }
 ],
 "metadata": {
  "jupytext": {
   "text_representation": {
    "extension": ".py",
    "format_name": "light",
    "format_version": "1.5",
    "jupytext_version": "1.7.1"
   }
  },
  "kernelspec": {
   "display_name": "Python 3",
   "language": "python",
   "name": "python3"
  },
  "language_info": {
   "codemirror_mode": {
    "name": "ipython",
    "version": 3
   },
   "file_extension": ".py",
   "mimetype": "text/x-python",
   "name": "python",
   "nbconvert_exporter": "python",
   "pygments_lexer": "ipython3",
   "version": "3.8.3"
  }
 },
 "nbformat": 4,
 "nbformat_minor": 4
}
