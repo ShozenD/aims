{
 "cells": [
  {
   "cell_type": "code",
   "execution_count": 1,
   "metadata": {},
   "outputs": [],
   "source": [
    "# Standard library imports\n",
    "import re\n",
    "import glob\n",
    "import pandas as pd\n",
    "import numpy as np\n",
    "import matplotlib.pyplot as plt\n",
    "from tqdm import tqdm\n",
    "from sklearn.model_selection import train_test_split\n",
    "\n",
    "# Keras and Tensorflow imports\n",
    "import tensorflow as tf\n",
    "import keras\n",
    "from keras.preprocessing import image\n",
    "from keras.preprocessing.image import ImageDataGenerator\n",
    "from keras.layers import Dense, BatchNormalization, Dropout, GlobalAveragePooling2D\n",
    "from keras.regularizers import l2"
   ]
  },
  {
   "cell_type": "code",
   "execution_count": 2,
   "metadata": {},
   "outputs": [],
   "source": [
    "# Image directory and csv path\n",
    "image_dir = \"./ISIC-images\"\n",
    "csv_label = pd.read_csv(\"class_label1.csv\")\n",
    "one_hot = pd.get_dummies(csv_label[\"category\"])\n",
    "data_df = pd.concat([csv_label, one_hot], axis=1)\n",
    "\n",
    "train_df, test_df = train_test_split(data_df, random_state = 80, test_size=0.2)"
   ]
  },
  {
   "cell_type": "code",
   "execution_count": 3,
   "metadata": {},
   "outputs": [],
   "source": [
    "# Parameters\n",
    "BATCH_SIZE = 32\n",
    "TARGET_SIZE = (224, 224)\n",
    "INPUT_SHAPE = (224, 224, 3)"
   ]
  },
  {
   "cell_type": "code",
   "execution_count": 4,
   "metadata": {},
   "outputs": [
    {
     "name": "stdout",
     "output_type": "stream",
     "text": [
      "Found 18956 validated image filenames.\n",
      "Found 4739 validated image filenames.\n"
     ]
    }
   ],
   "source": [
    "# Data Generator\n",
    "train_datagen = ImageDataGenerator(rescale = 1./255)\n",
    "test_datagen = ImageDataGenerator(rescale = 1./255)\n",
    "\n",
    "train_generator = train_datagen.flow_from_dataframe(\n",
    "    train_df,\n",
    "    directory = image_dir,\n",
    "    x_col = \"name\",\n",
    "    y_col = [\"AKIEC\",\"BCC\",\"BKL\",\"DF\",\"MEL\",\"NV\",\"VASC\"],\n",
    "    target_size = TARGET_SIZE,\n",
    "    batch_size = BATCH_SIZE,\n",
    "    class_mode = \"raw\"\n",
    ")\n",
    "\n",
    "test_generator = test_datagen.flow_from_dataframe(\n",
    "    test_df,\n",
    "    directory = image_dir,\n",
    "    x_col = \"name\",\n",
    "    y_col = [\"AKIEC\",\"BCC\",\"BKL\",\"DF\",\"MEL\",\"NV\",\"VASC\"],\n",
    "    target_size = TARGET_SIZE,\n",
    "    batch_size = BATCH_SIZE,\n",
    "    class_mode = \"raw\"\n",
    ")"
   ]
  },
  {
   "cell_type": "code",
   "execution_count": 8,
   "metadata": {},
   "outputs": [],
   "source": [
    "# Define Encoder\n",
    "densenet = tf.keras.applications.DenseNet169(\n",
    "    include_top = False, \n",
    "    weights = \"imagenet\",\n",
    "    input_shape = INPUT_SHAPE, \n",
    "  )\n",
    "\n",
    "# Unfreeze the last conv block\n",
    "set_trainable = False\n",
    "densenet.Trainable = True\n",
    "for layer in densenet.layers:\n",
    "    if re.match(\"^conv5_block*\", layer.name) is not None:\n",
    "        set_trainable = True\n",
    "    if set_trainable:\n",
    "        layer.trainable = True\n",
    "    else:\n",
    "        layer.trainable = False\n",
    "\n",
    "# Define Network\n",
    "x = GlobalAveragePooling2D()(densenet.output)\n",
    "x = Dense(units = 256, activation = 'relu')(x)\n",
    "x = Dropout(0.4)(x)\n",
    "x = BatchNormalization()(x)\n",
    "x = Dense(units = 128, activation = 'relu')(x)\n",
    "x = Dropout(0.1)(x)\n",
    "x = Dense(units = 64, activation = 'relu')(x)\n",
    "pred = Dense(units = 7, activation = 'softmax', kernel_regularizer = l2(l = 0.01))(x)\n",
    "\n",
    "model = keras.models.Model(inputs = densenet.input, outputs = pred)\n",
    "model.load_weights('./tmp/checkpoint/cp-0016.h5')\n",
    "\n",
    "# model.summary()"
   ]
  },
  {
   "cell_type": "code",
   "execution_count": 9,
   "metadata": {},
   "outputs": [],
   "source": [
    "# Compile Model\n",
    "model.compile(\n",
    "    optimizer = tf.keras.optimizers.Adam(lr=1e-5), # Set very low learning rate to avoid overfitting\n",
    "    loss = 'categorical_crossentropy',\n",
    "    metrics   = ['accuracy']\n",
    "  )"
   ]
  },
  {
   "cell_type": "code",
   "execution_count": 10,
   "metadata": {},
   "outputs": [
    {
     "name": "stdout",
     "output_type": "stream",
     "text": [
      "WARNING:tensorflow:`period` argument is deprecated. Please use `save_freq` to specify the frequency in number of batches seen.\n"
     ]
    }
   ],
   "source": [
    "checkpoint_filepath = './tmp/checkpoint/cp-{epoch:04d}.h5'\n",
    "model_checkpoint_callback = tf.keras.callbacks.ModelCheckpoint(\n",
    "    filepath=checkpoint_filepath,\n",
    "    save_weights_only=True,\n",
    "    monitor='val_acc',\n",
    "    period=1,\n",
    "    mode='auto',\n",
    "    save_best_only=False)"
   ]
  },
  {
   "cell_type": "code",
   "execution_count": 12,
   "metadata": {},
   "outputs": [
    {
     "name": "stdout",
     "output_type": "stream",
     "text": [
      "Epoch 1/70\n",
      "592/592 [==============================] - 851s 1s/step - loss: 0.3914 - accuracy: 0.8538 - val_loss: 0.4147 - val_accuracy: 0.8501\n",
      "Epoch 2/70\n",
      "592/592 [==============================] - 854s 1s/step - loss: 0.3908 - accuracy: 0.8532 - val_loss: 0.4144 - val_accuracy: 0.8509\n",
      "Epoch 3/70\n",
      "592/592 [==============================] - 856s 1s/step - loss: 0.3889 - accuracy: 0.8555 - val_loss: 0.4145 - val_accuracy: 0.8490\n",
      "Epoch 4/70\n",
      "592/592 [==============================] - 855s 1s/step - loss: 0.3909 - accuracy: 0.8536 - val_loss: 0.4135 - val_accuracy: 0.8497\n",
      "Epoch 5/70\n",
      "592/592 [==============================] - 856s 1s/step - loss: 0.3898 - accuracy: 0.8551 - val_loss: 0.4133 - val_accuracy: 0.8505\n",
      "Epoch 6/70\n",
      "592/592 [==============================] - 852s 1s/step - loss: 0.3859 - accuracy: 0.8553 - val_loss: 0.4142 - val_accuracy: 0.8499\n",
      "Epoch 7/70\n",
      "592/592 [==============================] - 851s 1s/step - loss: 0.3875 - accuracy: 0.8534 - val_loss: 0.4134 - val_accuracy: 0.8507\n",
      "Epoch 8/70\n",
      "592/592 [==============================] - 885s 1s/step - loss: 0.3861 - accuracy: 0.8547 - val_loss: 0.4128 - val_accuracy: 0.8503\n",
      "Epoch 9/70\n",
      "592/592 [==============================] - 901s 2s/step - loss: 0.3897 - accuracy: 0.8540 - val_loss: 0.4121 - val_accuracy: 0.8507\n",
      "Epoch 10/70\n",
      "592/592 [==============================] - 852s 1s/step - loss: 0.3883 - accuracy: 0.8556 - val_loss: 0.4129 - val_accuracy: 0.8492\n",
      "Epoch 11/70\n",
      "592/592 [==============================] - 851s 1s/step - loss: 0.3852 - accuracy: 0.8558 - val_loss: 0.4119 - val_accuracy: 0.8486\n",
      "Epoch 12/70\n",
      "592/592 [==============================] - 855s 1s/step - loss: 0.3861 - accuracy: 0.8554 - val_loss: 0.4133 - val_accuracy: 0.8499\n",
      "Epoch 13/70\n",
      "592/592 [==============================] - 851s 1s/step - loss: 0.3846 - accuracy: 0.8557 - val_loss: 0.4123 - val_accuracy: 0.8490\n",
      "Epoch 14/70\n",
      "592/592 [==============================] - 849s 1s/step - loss: 0.3793 - accuracy: 0.8579 - val_loss: 0.4118 - val_accuracy: 0.8495\n",
      "Epoch 15/70\n",
      "592/592 [==============================] - 853s 1s/step - loss: 0.3851 - accuracy: 0.8545 - val_loss: 0.4118 - val_accuracy: 0.8501\n",
      "Epoch 16/70\n",
      "592/592 [==============================] - 853s 1s/step - loss: 0.3863 - accuracy: 0.8564 - val_loss: 0.4112 - val_accuracy: 0.8505\n",
      "Epoch 17/70\n",
      "592/592 [==============================] - 854s 1s/step - loss: 0.3844 - accuracy: 0.8555 - val_loss: 0.4111 - val_accuracy: 0.8511\n",
      "Epoch 18/70\n",
      "592/592 [==============================] - 903s 2s/step - loss: 0.3809 - accuracy: 0.8562 - val_loss: 0.4114 - val_accuracy: 0.8490\n",
      "Epoch 19/70\n",
      "592/592 [==============================] - 879s 1s/step - loss: 0.3814 - accuracy: 0.8546 - val_loss: 0.4119 - val_accuracy: 0.8488\n",
      "Epoch 20/70\n",
      "592/592 [==============================] - 849s 1s/step - loss: 0.3782 - accuracy: 0.8570 - val_loss: 0.4116 - val_accuracy: 0.8490\n",
      "Epoch 21/70\n",
      "592/592 [==============================] - 846s 1s/step - loss: 0.3809 - accuracy: 0.8584 - val_loss: 0.4113 - val_accuracy: 0.8488\n",
      "Epoch 22/70\n",
      "592/592 [==============================] - 851s 1s/step - loss: 0.3778 - accuracy: 0.8600 - val_loss: 0.4111 - val_accuracy: 0.8486\n",
      "Epoch 23/70\n",
      "592/592 [==============================] - 849s 1s/step - loss: 0.3787 - accuracy: 0.8568 - val_loss: 0.4111 - val_accuracy: 0.8484\n",
      "Epoch 24/70\n",
      "592/592 [==============================] - 850s 1s/step - loss: 0.3769 - accuracy: 0.8577 - val_loss: 0.4104 - val_accuracy: 0.8484\n",
      "Epoch 25/70\n",
      "592/592 [==============================] - 848s 1s/step - loss: 0.3767 - accuracy: 0.8591 - val_loss: 0.4104 - val_accuracy: 0.8501\n",
      "Epoch 26/70\n",
      "592/592 [==============================] - 846s 1s/step - loss: 0.3773 - accuracy: 0.8595 - val_loss: 0.4112 - val_accuracy: 0.8480\n",
      "Epoch 27/70\n",
      "592/592 [==============================] - 845s 1s/step - loss: 0.3760 - accuracy: 0.8601 - val_loss: 0.4109 - val_accuracy: 0.8482\n",
      "Epoch 28/70\n",
      "592/592 [==============================] - 851s 1s/step - loss: 0.3770 - accuracy: 0.8583 - val_loss: 0.4110 - val_accuracy: 0.8476\n",
      "Epoch 29/70\n",
      "592/592 [==============================] - 850s 1s/step - loss: 0.3776 - accuracy: 0.8591 - val_loss: 0.4105 - val_accuracy: 0.8486\n",
      "Epoch 30/70\n",
      "592/592 [==============================] - 848s 1s/step - loss: 0.3775 - accuracy: 0.8568 - val_loss: 0.4106 - val_accuracy: 0.8490\n",
      "Epoch 31/70\n",
      "592/592 [==============================] - 846s 1s/step - loss: 0.3713 - accuracy: 0.8609 - val_loss: 0.4106 - val_accuracy: 0.8486\n",
      "Epoch 32/70\n",
      "592/592 [==============================] - 848s 1s/step - loss: 0.3729 - accuracy: 0.8587 - val_loss: 0.4102 - val_accuracy: 0.8486\n",
      "Epoch 33/70\n",
      "592/592 [==============================] - 850s 1s/step - loss: 0.3745 - accuracy: 0.8608 - val_loss: 0.4107 - val_accuracy: 0.8495\n",
      "Epoch 34/70\n",
      "592/592 [==============================] - 850s 1s/step - loss: 0.3747 - accuracy: 0.8601 - val_loss: 0.4100 - val_accuracy: 0.8497\n",
      "Epoch 35/70\n",
      "592/592 [==============================] - 850s 1s/step - loss: 0.3747 - accuracy: 0.8583 - val_loss: 0.4099 - val_accuracy: 0.8511\n",
      "Epoch 36/70\n",
      "592/592 [==============================] - 850s 1s/step - loss: 0.3699 - accuracy: 0.8603 - val_loss: 0.4109 - val_accuracy: 0.8495\n",
      "Epoch 37/70\n",
      "592/592 [==============================] - 846s 1s/step - loss: 0.3707 - accuracy: 0.8609 - val_loss: 0.4110 - val_accuracy: 0.8497\n",
      "Epoch 38/70\n",
      "592/592 [==============================] - 851s 1s/step - loss: 0.3732 - accuracy: 0.8603 - val_loss: 0.4107 - val_accuracy: 0.8499\n",
      "Epoch 39/70\n",
      "592/592 [==============================] - 850s 1s/step - loss: 0.3714 - accuracy: 0.8590 - val_loss: 0.4103 - val_accuracy: 0.8514\n",
      "Epoch 40/70\n",
      "592/592 [==============================] - 848s 1s/step - loss: 0.3735 - accuracy: 0.8579 - val_loss: 0.4109 - val_accuracy: 0.8501\n",
      "Epoch 41/70\n",
      "592/592 [==============================] - 850s 1s/step - loss: 0.3710 - accuracy: 0.8613 - val_loss: 0.4131 - val_accuracy: 0.8488\n",
      "Epoch 42/70\n",
      "592/592 [==============================] - 848s 1s/step - loss: 0.3690 - accuracy: 0.8589 - val_loss: 0.4125 - val_accuracy: 0.8495\n",
      "Epoch 43/70\n",
      "592/592 [==============================] - 847s 1s/step - loss: 0.3688 - accuracy: 0.8601 - val_loss: 0.4116 - val_accuracy: 0.8492\n",
      "Epoch 44/70\n",
      "592/592 [==============================] - 849s 1s/step - loss: 0.3692 - accuracy: 0.8621 - val_loss: 0.4126 - val_accuracy: 0.8490\n",
      "Epoch 45/70\n",
      "592/592 [==============================] - 845s 1s/step - loss: 0.3644 - accuracy: 0.8611 - val_loss: 0.4127 - val_accuracy: 0.8490\n",
      "Epoch 46/70\n",
      "592/592 [==============================] - 846s 1s/step - loss: 0.3654 - accuracy: 0.8613 - val_loss: 0.4127 - val_accuracy: 0.8497\n",
      "Epoch 47/70\n",
      "592/592 [==============================] - 848s 1s/step - loss: 0.3685 - accuracy: 0.8626 - val_loss: 0.4127 - val_accuracy: 0.8495\n",
      "Epoch 48/70\n",
      "592/592 [==============================] - 848s 1s/step - loss: 0.3650 - accuracy: 0.8644 - val_loss: 0.4125 - val_accuracy: 0.8497\n",
      "Epoch 49/70\n",
      "592/592 [==============================] - 857s 1s/step - loss: 0.3653 - accuracy: 0.8628 - val_loss: 0.4140 - val_accuracy: 0.8490\n",
      "Epoch 50/70\n",
      "592/592 [==============================] - 853s 1s/step - loss: 0.3701 - accuracy: 0.8617 - val_loss: 0.4127 - val_accuracy: 0.8501\n",
      "Epoch 51/70\n",
      "592/592 [==============================] - 849s 1s/step - loss: 0.3651 - accuracy: 0.8642 - val_loss: 0.4143 - val_accuracy: 0.8482\n",
      "Epoch 52/70\n",
      "592/592 [==============================] - 847s 1s/step - loss: 0.3666 - accuracy: 0.8641 - val_loss: 0.4126 - val_accuracy: 0.8492\n",
      "Epoch 53/70\n",
      "592/592 [==============================] - 852s 1s/step - loss: 0.3658 - accuracy: 0.8628 - val_loss: 0.4129 - val_accuracy: 0.8499\n",
      "Epoch 54/70\n",
      "592/592 [==============================] - 859s 1s/step - loss: 0.3625 - accuracy: 0.8645 - val_loss: 0.4133 - val_accuracy: 0.8495\n",
      "Epoch 55/70\n",
      "592/592 [==============================] - 851s 1s/step - loss: 0.3664 - accuracy: 0.8637 - val_loss: 0.4138 - val_accuracy: 0.8497\n",
      "Epoch 56/70\n",
      "592/592 [==============================] - 845s 1s/step - loss: 0.3638 - accuracy: 0.8616 - val_loss: 0.4138 - val_accuracy: 0.8501\n",
      "Epoch 57/70\n",
      "592/592 [==============================] - 853s 1s/step - loss: 0.3686 - accuracy: 0.8628 - val_loss: 0.4143 - val_accuracy: 0.8497\n",
      "Epoch 58/70\n",
      "592/592 [==============================] - 854s 1s/step - loss: 0.3621 - accuracy: 0.8617 - val_loss: 0.4150 - val_accuracy: 0.8507\n",
      "Epoch 59/70\n",
      "592/592 [==============================] - 856s 1s/step - loss: 0.3631 - accuracy: 0.8641 - val_loss: 0.4159 - val_accuracy: 0.8497\n",
      "Epoch 60/70\n",
      "592/592 [==============================] - 856s 1s/step - loss: 0.3613 - accuracy: 0.8670 - val_loss: 0.4156 - val_accuracy: 0.8495\n",
      "Epoch 61/70\n",
      "592/592 [==============================] - 852s 1s/step - loss: 0.3637 - accuracy: 0.8629 - val_loss: 0.4166 - val_accuracy: 0.8499\n",
      "Epoch 62/70\n",
      "592/592 [==============================] - 871s 1s/step - loss: 0.3602 - accuracy: 0.8637 - val_loss: 0.4155 - val_accuracy: 0.8490\n",
      "Epoch 63/70\n",
      "592/592 [==============================] - 880s 1s/step - loss: 0.3618 - accuracy: 0.8644 - val_loss: 0.4161 - val_accuracy: 0.8486\n",
      "Epoch 64/70\n",
      "592/592 [==============================] - 855s 1s/step - loss: 0.3597 - accuracy: 0.8665 - val_loss: 0.4167 - val_accuracy: 0.8507\n",
      "Epoch 65/70\n",
      "592/592 [==============================] - 856s 1s/step - loss: 0.3598 - accuracy: 0.8644 - val_loss: 0.4165 - val_accuracy: 0.8499\n",
      "Epoch 66/70\n",
      "592/592 [==============================] - 856s 1s/step - loss: 0.3609 - accuracy: 0.8635 - val_loss: 0.4190 - val_accuracy: 0.8482\n",
      "Epoch 67/70\n",
      "592/592 [==============================] - 864s 1s/step - loss: 0.3594 - accuracy: 0.8667 - val_loss: 0.4174 - val_accuracy: 0.8503\n",
      "Epoch 68/70\n",
      "592/592 [==============================] - 858s 1s/step - loss: 0.3570 - accuracy: 0.8660 - val_loss: 0.4192 - val_accuracy: 0.8495\n",
      "Epoch 69/70\n",
      "592/592 [==============================] - 863s 1s/step - loss: 0.3593 - accuracy: 0.8653 - val_loss: 0.4198 - val_accuracy: 0.8478\n",
      "Epoch 70/70\n",
      "592/592 [==============================] - 862s 1s/step - loss: 0.3571 - accuracy: 0.8673 - val_loss: 0.4179 - val_accuracy: 0.8488\n"
     ]
    }
   ],
   "source": [
    "# Fit model\n",
    "history = model.fit(\n",
    "    train_generator,\n",
    "    steps_per_epoch = 592,\n",
    "    epochs = 70,\n",
    "    validation_data = test_generator,\n",
    "    validation_steps = 148,\n",
    "    callbacks=[model_checkpoint_callback]\n",
    "  )"
   ]
  },
  {
   "cell_type": "code",
   "execution_count": 13,
   "metadata": {},
   "outputs": [],
   "source": [
    "model.save('./densenet_skin_finetuned.h5')"
   ]
  },
  {
   "cell_type": "code",
   "execution_count": 14,
   "metadata": {},
   "outputs": [],
   "source": [
    "acc = history.history['accuracy']\n",
    "val_acc = history.history['val_accuracy']\n",
    "loss = history.history['loss']\n",
    "val_loss = history.history['val_loss']"
   ]
  },
  {
   "cell_type": "code",
   "execution_count": 15,
   "metadata": {},
   "outputs": [
    {
     "data": {
      "text/plain": [
       "<matplotlib.legend.Legend at 0x2bfbd5f1048>"
      ]
     },
     "execution_count": 15,
     "metadata": {},
     "output_type": "execute_result"
    },
    {
     "data": {
      "image/png": "[encoded data removed]",
      "text/plain": [
       "<Figure size 432x288 with 1 Axes>"
      ]
     },
     "metadata": {
      "needs_background": "light"
     },
     "output_type": "display_data"
    }
   ],
   "source": [
    "%matplotlib inline\n",
    "\n",
    "epochs = range(len(loss))\n",
    "plt.plot(epochs, loss, \"bo\", label=\"Training loss\")\n",
    "plt.plot(epochs, val_loss, \"b\", label=\"validation loss\")\n",
    "plt.title(\"Training and validation loss\")\n",
    "plt.legend()"
   ]
  },
  {
   "cell_type": "code",
   "execution_count": 17,
   "metadata": {},
   "outputs": [
    {
     "data": {
      "text/plain": [
       "<matplotlib.legend.Legend at 0x2bfadf97bc8>"
      ]
     },
     "execution_count": 17,
     "metadata": {},
     "output_type": "execute_result"
    },
    {
     "data": {
      "image/png": "[encoded data removed]",
      "text/plain": [
       "<Figure size 432x288 with 1 Axes>"
      ]
     },
     "metadata": {
      "needs_background": "light"
     },
     "output_type": "display_data"
    }
   ],
   "source": [
    "plt.plot(epochs, acc, \"bo\", label=\"Training accuracy\")\n",
    "plt.plot(epochs, val_acc, \"b\", label=\"validation accuracy\")\n",
    "plt.title(\"Training and validation accuracy\")\n",
    "plt.legend()"
   ]
  },
  {
   "cell_type": "code",
   "execution_count": 25,
   "metadata": {},
   "outputs": [
    {
     "name": "stdout",
     "output_type": "stream",
     "text": [
      "best validation accuracy : 0.8513513803482056\n",
      "index : 38\n"
     ]
    }
   ],
   "source": [
    "print (\"best validation accuracy : {0}\".format(max(val_acc)))\n",
    "print (\"index : {0}\".format(val_acc.index(max(val_acc))))"
   ]
  },
  {
   "cell_type": "code",
   "execution_count": 27,
   "metadata": {},
   "outputs": [
    {
     "ename": "TypeError",
     "evalue": "'History' object is not subscriptable",
     "output_type": "error",
     "traceback": [
      "\u001b[1;31m---------------------------------------------------------------------------\u001b[0m",
      "\u001b[1;31mTypeError\u001b[0m                                 Traceback (most recent call last)",
      "\u001b[1;32m<ipython-input-27-7fc60e0dea2a>\u001b[0m in \u001b[0;36m<module>\u001b[1;34m\u001b[0m\n\u001b[1;32m----> 1\u001b[1;33m \u001b[0mhistory\u001b[0m\u001b[1;33m[\u001b[0m\u001b[1;36m1\u001b[0m\u001b[1;33m]\u001b[0m\u001b[1;33m\u001b[0m\u001b[1;33m\u001b[0m\u001b[0m\n\u001b[0m",
      "\u001b[1;31mTypeError\u001b[0m: 'History' object is not subscriptable"
     ]
    }
   ],
   "source": []
  },
  {
   "cell_type": "code",
   "execution_count": null,
   "metadata": {},
   "outputs": [],
   "source": []
  }
 ],
 "metadata": {
  "jupytext": {
   "text_representation": {
    "extension": ".py",
    "format_name": "light",
    "format_version": "1.5",
    "jupytext_version": "1.7.1"
   }
  },
  "kernelspec": {
   "display_name": "Python 3",
   "language": "python",
   "name": "python3"
  },
  "language_info": {
   "codemirror_mode": {
    "name": "ipython",
    "version": 3
   },
   "file_extension": ".py",
   "mimetype": "text/x-python",
   "name": "python",
   "nbconvert_exporter": "python",
   "pygments_lexer": "ipython3",
   "version": "3.7.4"
  }
 },
 "nbformat": 4,
 "nbformat_minor": 4
}
