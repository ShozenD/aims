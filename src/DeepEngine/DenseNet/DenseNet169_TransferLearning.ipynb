{
 "cells": [
  {
   "cell_type": "code",
   "execution_count": 1,
   "metadata": {},
   "outputs": [],
   "source": [
    "import keras\n",
    "from keras.layers import Dense, BatchNormalization, Dropout, GlobalAveragePooling2D, Flatten, Conv2D, MaxPooling2D\n",
    "from keras.preprocessing import image\n",
    "from keras.regularizers import l2\n",
    "from sklearn.model_selection import train_test_split\n",
    "import tensorflow as tf\n",
    "import numpy as np\n",
    "import pandas as pd\n",
    "import matplotlib.pyplot as plt\n",
    "import tensorflow as tf"
   ]
  },
  {
   "cell_type": "code",
   "execution_count": 2,
   "metadata": {},
   "outputs": [],
   "source": [
    "datagen = image.ImageDataGenerator(\n",
    "    rescale = 1./255,\n",
    "    zoom_range=0.2,\n",
    "    fill_mode='reflect',\n",
    "    rotation_range=20,\n",
    "    horizontal_flip=True\n",
    ")"
   ]
  },
  {
   "cell_type": "code",
   "execution_count": 5,
   "metadata": {},
   "outputs": [],
   "source": [
    "image_dir = \"skin-images\"\n",
    "data_df = pd.read_csv('skin_condition_label1.csv')"
   ]
  },
  {
   "cell_type": "code",
   "execution_count": 6,
   "metadata": {},
   "outputs": [
    {
     "data": {
      "text/html": [
       "<div>\n",
       "<style scoped>\n",
       "    .dataframe tbody tr th:only-of-type {\n",
       "        vertical-align: middle;\n",
       "    }\n",
       "\n",
       "    .dataframe tbody tr th {\n",
       "        vertical-align: top;\n",
       "    }\n",
       "\n",
       "    .dataframe thead th {\n",
       "        text-align: right;\n",
       "    }\n",
       "</style>\n",
       "<table border=\"1\" class=\"dataframe\">\n",
       "  <thead>\n",
       "    <tr style=\"text-align: right;\">\n",
       "      <th></th>\n",
       "      <th>Unnamed: 0</th>\n",
       "      <th>file_id</th>\n",
       "      <th>1_texture</th>\n",
       "      <th>1_pores</th>\n",
       "      <th>1_spot</th>\n",
       "      <th>1_saggy</th>\n",
       "      <th>1_clear</th>\n",
       "      <th>1_melanin</th>\n",
       "      <th>1_wrinkles</th>\n",
       "    </tr>\n",
       "  </thead>\n",
       "  <tbody>\n",
       "    <tr>\n",
       "      <th>0</th>\n",
       "      <td>0</td>\n",
       "      <td>1.jpg</td>\n",
       "      <td>3</td>\n",
       "      <td>2</td>\n",
       "      <td>3</td>\n",
       "      <td>3</td>\n",
       "      <td>4</td>\n",
       "      <td>3</td>\n",
       "      <td>3</td>\n",
       "    </tr>\n",
       "    <tr>\n",
       "      <th>1</th>\n",
       "      <td>1</td>\n",
       "      <td>6.jpg</td>\n",
       "      <td>4</td>\n",
       "      <td>4</td>\n",
       "      <td>1</td>\n",
       "      <td>4</td>\n",
       "      <td>2</td>\n",
       "      <td>1</td>\n",
       "      <td>4</td>\n",
       "    </tr>\n",
       "    <tr>\n",
       "      <th>2</th>\n",
       "      <td>2</td>\n",
       "      <td>7.jpg</td>\n",
       "      <td>3</td>\n",
       "      <td>3</td>\n",
       "      <td>2</td>\n",
       "      <td>3</td>\n",
       "      <td>3</td>\n",
       "      <td>2</td>\n",
       "      <td>4</td>\n",
       "    </tr>\n",
       "    <tr>\n",
       "      <th>3</th>\n",
       "      <td>3</td>\n",
       "      <td>8.jpg</td>\n",
       "      <td>2</td>\n",
       "      <td>3</td>\n",
       "      <td>1</td>\n",
       "      <td>2</td>\n",
       "      <td>1</td>\n",
       "      <td>1</td>\n",
       "      <td>1</td>\n",
       "    </tr>\n",
       "    <tr>\n",
       "      <th>4</th>\n",
       "      <td>4</td>\n",
       "      <td>9.jpg</td>\n",
       "      <td>3</td>\n",
       "      <td>2</td>\n",
       "      <td>3</td>\n",
       "      <td>3</td>\n",
       "      <td>3</td>\n",
       "      <td>3</td>\n",
       "      <td>2</td>\n",
       "    </tr>\n",
       "  </tbody>\n",
       "</table>\n",
       "</div>"
      ],
      "text/plain": [
       "   Unnamed: 0 file_id  1_texture  1_pores  1_spot  1_saggy  1_clear  \\\n",
       "0           0   1.jpg          3        2       3        3        4   \n",
       "1           1   6.jpg          4        4       1        4        2   \n",
       "2           2   7.jpg          3        3       2        3        3   \n",
       "3           3   8.jpg          2        3       1        2        1   \n",
       "4           4   9.jpg          3        2       3        3        3   \n",
       "\n",
       "   1_melanin  1_wrinkles  \n",
       "0          3           3  \n",
       "1          1           4  \n",
       "2          2           4  \n",
       "3          1           1  \n",
       "4          3           2  "
      ]
     },
     "execution_count": 6,
     "metadata": {},
     "output_type": "execute_result"
    }
   ],
   "source": [
    "data_df.head()"
   ]
  },
  {
   "cell_type": "code",
   "execution_count": 9,
   "metadata": {},
   "outputs": [
    {
     "name": "stdout",
     "output_type": "stream",
     "text": [
      "Found 0 validated image filenames.\n",
      "Found 0 validated image filenames.\n"
     ]
    }
   ],
   "source": [
    "# Parameters\n",
    "BATCH_SIZE = 32\n",
    "TARGET_SIZE = (224, 224)\n",
    "INPUT_SHAPE= (224, 224, 3)\n",
    "\n",
    "train_df, test_df = train_test_split(data_df, random_state = 80, test_size=0.2)\n",
    "\n",
    "train_generator = datagen.flow_from_dataframe(\n",
    "    train_df,\n",
    "    directory = image_dir,\n",
    "    x_col = \"file_id\",\n",
    "    y_col = [\"1_texture\",\"1_pores\",\"1_spot\",\"1_saggy\",\"1_clear\",\"1_melanin\",\"1_wrinkles\"],\n",
    "    target_size = TARGET_SIZE,\n",
    "    batch_size = BATCH_SIZE,\n",
    "    class_mode = \"raw\"\n",
    ")\n",
    "\n",
    "test_generator = datagen.flow_from_dataframe(\n",
    "    test_df,\n",
    "    directory = image_dir,\n",
    "    x_col = \"file_id\",\n",
    "    y_col = [\"1_texture\",\"1_pores\",\"1_spot\",\"1_saggy\",\"1_clear\",\"1_melanin\",\"1_wrinkles\"],\n",
    "    target_size = TARGET_SIZE,\n",
    "    batch_size = BATCH_SIZE,\n",
    "    class_mode = \"raw\"\n",
    ")"
   ]
  },
  {
   "cell_type": "code",
   "execution_count": 8,
   "metadata": {},
   "outputs": [
    {
     "ename": "ValueError",
     "evalue": "Asked to retrieve element 0, but the Sequence has length 0",
     "output_type": "error",
     "traceback": [
      "\u001b[0;31m---------------------------------------------------------------------------\u001b[0m",
      "\u001b[0;31mValueError\u001b[0m                                Traceback (most recent call last)",
      "\u001b[0;32m<ipython-input-8-e0c5caddc9df>\u001b[0m in \u001b[0;36m<module>\u001b[0;34m\u001b[0m\n\u001b[0;32m----> 1\u001b[0;31m \u001b[0mplt\u001b[0m\u001b[0;34m.\u001b[0m\u001b[0mimshow\u001b[0m\u001b[0;34m(\u001b[0m\u001b[0mtest_generator\u001b[0m\u001b[0;34m[\u001b[0m\u001b[0;36m0\u001b[0m\u001b[0;34m]\u001b[0m\u001b[0;34m[\u001b[0m\u001b[0;36m0\u001b[0m\u001b[0;34m]\u001b[0m\u001b[0;34m[\u001b[0m\u001b[0;36m3\u001b[0m\u001b[0;34m]\u001b[0m\u001b[0;34m)\u001b[0m\u001b[0;34m\u001b[0m\u001b[0;34m\u001b[0m\u001b[0m\n\u001b[0m\u001b[1;32m      2\u001b[0m \u001b[0mprint\u001b[0m\u001b[0;34m(\u001b[0m\u001b[0mtest_generator\u001b[0m\u001b[0;34m[\u001b[0m\u001b[0;36m0\u001b[0m\u001b[0;34m]\u001b[0m\u001b[0;34m[\u001b[0m\u001b[0;36m1\u001b[0m\u001b[0;34m]\u001b[0m\u001b[0;34m[\u001b[0m\u001b[0;36m3\u001b[0m\u001b[0;34m]\u001b[0m\u001b[0;34m)\u001b[0m\u001b[0;34m\u001b[0m\u001b[0;34m\u001b[0m\u001b[0m\n",
      "\u001b[0;32m~/.local/share/virtualenvs/aims-puQCvZ6P/lib/python3.8/site-packages/keras_preprocessing/image/iterator.py\u001b[0m in \u001b[0;36m__getitem__\u001b[0;34m(self, idx)\u001b[0m\n\u001b[1;32m     52\u001b[0m     \u001b[0;32mdef\u001b[0m \u001b[0m__getitem__\u001b[0m\u001b[0;34m(\u001b[0m\u001b[0mself\u001b[0m\u001b[0;34m,\u001b[0m \u001b[0midx\u001b[0m\u001b[0;34m)\u001b[0m\u001b[0;34m:\u001b[0m\u001b[0;34m\u001b[0m\u001b[0;34m\u001b[0m\u001b[0m\n\u001b[1;32m     53\u001b[0m         \u001b[0;32mif\u001b[0m \u001b[0midx\u001b[0m \u001b[0;34m>=\u001b[0m \u001b[0mlen\u001b[0m\u001b[0;34m(\u001b[0m\u001b[0mself\u001b[0m\u001b[0;34m)\u001b[0m\u001b[0;34m:\u001b[0m\u001b[0;34m\u001b[0m\u001b[0;34m\u001b[0m\u001b[0m\n\u001b[0;32m---> 54\u001b[0;31m             raise ValueError('Asked to retrieve element {idx}, '\n\u001b[0m\u001b[1;32m     55\u001b[0m                              \u001b[0;34m'but the Sequence '\u001b[0m\u001b[0;34m\u001b[0m\u001b[0;34m\u001b[0m\u001b[0m\n\u001b[1;32m     56\u001b[0m                              'has length {length}'.format(idx=idx,\n",
      "\u001b[0;31mValueError\u001b[0m: Asked to retrieve element 0, but the Sequence has length 0"
     ]
    }
   ],
   "source": [
    "plt.imshow(test_generator[0][0][3])\n",
    "print(test_generator[0][1][3])"
   ]
  },
  {
   "cell_type": "code",
   "execution_count": 10,
   "metadata": {},
   "outputs": [],
   "source": [
    "densenet = tf.keras.applications.DenseNet169(\n",
    "    include_top = False, \n",
    "    weights = \"imagenet\",\n",
    "    input_shape = INPUT_SHAPE\n",
    "    )\n",
    "densenet.Trainable = False\n",
    "x = GlobalAveragePooling2D()(densenet.output)\n",
    "x = Dense(units = 256, activation = 'relu')(x)\n",
    "x = Dropout(0.4)(x)\n",
    "x = BatchNormalization()(x)\n",
    "x = Dense(units = 128, activation = 'relu')(x)\n",
    "x = Dropout(0.1)(x)\n",
    "x = Dense(units = 64, activation = 'relu')(x)\n",
    "pred = Dense(units = 7, activation = 'softmax', kernel_regularizer = l2(l = 0.01))(x)\n",
    "model = keras.models.Model(inputs = densenet.input, outputs = pred)\n",
    "\n",
    "model.load_weights('./tmp/finalresult/densenet_skin_finetuned_best.h5')"
   ]
  },
  {
   "cell_type": "code",
   "execution_count": 15,
   "metadata": {},
   "outputs": [
    {
     "data": {
      "text/plain": [
       "<tensorflow.python.keras.layers.pooling.GlobalAveragePooling2D at 0x7fd37b3785e0>"
      ]
     },
     "execution_count": 15,
     "metadata": {},
     "output_type": "execute_result"
    }
   ],
   "source": [
    "x = model.layers[-8].output\n",
    "x = Dense(256, activation='relu')(x)\n",
    "x = BatchNormalization(x)\n",
    "x = Dense(128, activation='relu')(x)\n",
    "x = BatchNormalization(x)\n",
    "x = Dense(64, activation='relu')(x)\n",
    "x = Dense(32, activation='relu')(x)\n",
    "output = Dense(7, activation='relu')(x)\n",
    "model = keras.models.Model(inputs = model.input, outputs = output)"
   ]
  },
  {
   "cell_type": "code",
   "execution_count": 10,
   "metadata": {},
   "outputs": [],
   "source": [
    "model.summary()"
   ]
  },
  {
   "cell_type": "code",
   "execution_count": 11,
   "metadata": {},
   "outputs": [],
   "source": [
    "model.compile(optimizer='adam', loss='mse', metrics=['mae'])"
   ]
  },
  {
   "cell_type": "code",
   "execution_count": 12,
   "metadata": {},
   "outputs": [
    {
     "name": "stdout",
     "output_type": "stream",
     "text": [
      "WARNING:tensorflow:`period` argument is deprecated. Please use `save_freq` to specify the frequency in number of batches seen.\n"
     ]
    }
   ],
   "source": [
    "checkpoint_filepath = './tmp/checkpoint(fitting)/cp-{epoch:04d}.h5'\n",
    "model_checkpoint_callback = tf.keras.callbacks.ModelCheckpoint(\n",
    "    filepath=checkpoint_filepath,\n",
    "    save_weights_only=True,\n",
    "    monitor='val_acc',\n",
    "    period=1,\n",
    "    mode='auto',\n",
    "    save_best_only=False)"
   ]
  },
  {
   "cell_type": "code",
   "execution_count": 13,
   "metadata": {},
   "outputs": [
    {
     "name": "stdout",
     "output_type": "stream",
     "text": [
      "Epoch 1/20\n",
      "42/42 [==============================] - 19s 450ms/step - loss: 1.8146 - accuracy: 0.1619 - val_loss: 1.3723 - val_accuracy: 0.0273\n",
      "Epoch 2/20\n",
      "42/42 [==============================] - 14s 343ms/step - loss: 1.1788 - accuracy: 0.2074 - val_loss: 1.0786 - val_accuracy: 0.0424\n",
      "Epoch 3/20\n",
      "42/42 [==============================] - 14s 333ms/step - loss: 0.9283 - accuracy: 0.2021 - val_loss: 0.9811 - val_accuracy: 0.1394\n",
      "Epoch 4/20\n",
      "42/42 [==============================] - 14s 336ms/step - loss: 0.8342 - accuracy: 0.3085 - val_loss: 0.9969 - val_accuracy: 0.3152\n",
      "Epoch 5/20\n",
      "42/42 [==============================] - 14s 332ms/step - loss: 0.7747 - accuracy: 0.3784 - val_loss: 0.9422 - val_accuracy: 0.1879\n",
      "Epoch 6/20\n",
      "42/42 [==============================] - 14s 336ms/step - loss: 0.7545 - accuracy: 0.3739 - val_loss: 1.1086 - val_accuracy: 0.2061\n",
      "Epoch 7/20\n",
      "42/42 [==============================] - 14s 336ms/step - loss: 0.7315 - accuracy: 0.3549 - val_loss: 1.0216 - val_accuracy: 0.7606\n",
      "Epoch 8/20\n",
      "42/42 [==============================] - 14s 336ms/step - loss: 0.7211 - accuracy: 0.4043 - val_loss: 1.0566 - val_accuracy: 0.5636\n",
      "Epoch 9/20\n",
      "42/42 [==============================] - 14s 336ms/step - loss: 0.7044 - accuracy: 0.4362 - val_loss: 0.8311 - val_accuracy: 0.7667\n",
      "Epoch 10/20\n",
      "42/42 [==============================] - 14s 336ms/step - loss: 0.6779 - accuracy: 0.4947 - val_loss: 1.0335 - val_accuracy: 0.7667\n",
      "Epoch 11/20\n",
      "42/42 [==============================] - 14s 336ms/step - loss: 0.6824 - accuracy: 0.4985 - val_loss: 0.8771 - val_accuracy: 0.7667\n",
      "Epoch 12/20\n",
      "42/42 [==============================] - 14s 338ms/step - loss: 0.6583 - accuracy: 0.5517 - val_loss: 0.8199 - val_accuracy: 0.7667\n",
      "Epoch 13/20\n",
      "42/42 [==============================] - 14s 338ms/step - loss: 0.6538 - accuracy: 0.4977 - val_loss: 0.7559 - val_accuracy: 0.7667\n",
      "Epoch 14/20\n",
      "42/42 [==============================] - 14s 336ms/step - loss: 0.6297 - accuracy: 0.5707 - val_loss: 0.7374 - val_accuracy: 0.7667\n",
      "Epoch 15/20\n",
      "42/42 [==============================] - 14s 335ms/step - loss: 0.6306 - accuracy: 0.5479 - val_loss: 0.6863 - val_accuracy: 0.7667\n",
      "Epoch 16/20\n",
      "42/42 [==============================] - 14s 335ms/step - loss: 0.6217 - accuracy: 0.6056 - val_loss: 0.6696 - val_accuracy: 0.7667\n",
      "Epoch 17/20\n",
      "42/42 [==============================] - 14s 336ms/step - loss: 0.6113 - accuracy: 0.6125 - val_loss: 0.6527 - val_accuracy: 0.7667\n",
      "Epoch 18/20\n",
      "42/42 [==============================] - 14s 335ms/step - loss: 0.5992 - accuracy: 0.6185 - val_loss: 0.6689 - val_accuracy: 0.7667\n",
      "Epoch 19/20\n",
      "42/42 [==============================] - 14s 336ms/step - loss: 0.5896 - accuracy: 0.6489 - val_loss: 0.6942 - val_accuracy: 0.7667\n",
      "Epoch 20/20\n",
      "42/42 [==============================] - 14s 336ms/step - loss: 0.6076 - accuracy: 0.6809 - val_loss: 0.8523 - val_accuracy: 0.7667\n"
     ]
    }
   ],
   "source": [
    "# Fit model\n",
    "history = newmodel.fit(\n",
    "    train_generator,\n",
    "    epochs = 20,\n",
    "    validation_data = test_generator,\n",
    "    callbacks=[model_checkpoint_callback]\n",
    "  )"
   ]
  },
  {
   "cell_type": "code",
   "execution_count": 17,
   "metadata": {},
   "outputs": [],
   "source": [
    "acc      = history.history['accuracy']\n",
    "val_acc  = history.history['val_accuracy']\n",
    "loss     = history.history['loss']\n",
    "val_loss = history.history['val_loss']"
   ]
  },
  {
   "cell_type": "code",
   "execution_count": 18,
   "metadata": {},
   "outputs": [
    {
     "data": {
      "text/plain": [
       "[<matplotlib.lines.Line2D at 0x251b4ac7d88>]"
      ]
     },
     "execution_count": 18,
     "metadata": {},
     "output_type": "execute_result"
    },
    {
     "data": {
      "image/png": "[encoded data removed]",
      "text/plain": [
       "<Figure size 432x288 with 1 Axes>"
      ]
     },
     "metadata": {
      "needs_background": "light"
     },
     "output_type": "display_data"
    }
   ],
   "source": [
    "epochs = range(len(loss))\n",
    "plt.plot(epochs,loss,\"b\",label=\"Training loss\")\n",
    "plt.plot(epochs,val_loss,\"g\",label=\"validation loss\")"
   ]
  },
  {
   "cell_type": "code",
   "execution_count": 19,
   "metadata": {},
   "outputs": [
    {
     "data": {
      "text/plain": [
       "[<matplotlib.lines.Line2D at 0x251b6aa1948>]"
      ]
     },
     "execution_count": 19,
     "metadata": {},
     "output_type": "execute_result"
    },
    {
     "data": {
      "image/png": "[encoded data removed]",
      "text/plain": [
       "<Figure size 432x288 with 1 Axes>"
      ]
     },
     "metadata": {
      "needs_background": "light"
     },
     "output_type": "display_data"
    }
   ],
   "source": [
    "plt.plot(epochs,acc,\"b\",label=\"Training accuracy\")\n",
    "plt.plot(epochs,val_acc,\"g\",label=\"validation accuracy\")"
   ]
  },
  {
   "cell_type": "code",
   "execution_count": null,
   "metadata": {},
   "outputs": [],
   "source": []
  }
 ],
 "metadata": {
  "kernelspec": {
   "display_name": "Python 3",
   "language": "python",
   "name": "python3"
  },
  "language_info": {
   "codemirror_mode": {
    "name": "ipython",
    "version": 3
   },
   "file_extension": ".py",
   "mimetype": "text/x-python",
   "name": "python",
   "nbconvert_exporter": "python",
   "pygments_lexer": "ipython3",
   "version": "3.8.3"
  }
 },
 "nbformat": 4,
 "nbformat_minor": 4
}
