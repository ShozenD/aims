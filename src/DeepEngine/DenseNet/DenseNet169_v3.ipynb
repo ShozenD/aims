{
 "cells": [
  {
   "cell_type": "code",
   "execution_count": 1,
   "metadata": {},
   "outputs": [],
   "source": [
    "import tensorflow as tf\n",
    "import keras\n",
    "from keras.preprocessing import image\n",
    "import pandas as pd\n",
    "from tqdm import tqdm\n",
    "import numpy as np\n",
    "from sklearn.model_selection import train_test_split\n",
    "import matplotlib.pyplot as plt\n",
    "import glob\n",
    "from keras.preprocessing.image import ImageDataGenerator \n",
    "import numpy as np\n",
    "from sklearn.utils import shuffle\n",
    "from keras.layers import Dense, BatchNormalization, Dropout, GlobalAveragePooling2D\n",
    "from keras.regularizers import l2"
   ]
  },
  {
   "cell_type": "code",
   "execution_count": 2,
   "metadata": {},
   "outputs": [],
   "source": [
    "#Image directory and csv path\n",
    "image_dir = \"./ISIC-images\"\n",
    "csv_label = pd.read_csv(\"class_label1.csv\")\n",
    "one_hot = pd.get_dummies(csv_label[\"category\"])\n",
    "test3 = pd.concat([csv_label, one_hot], axis=1)\n",
    "\n",
    "train_df, test_df = train_test_split(test3, random_state=80, test_size=0.2)"
   ]
  },
  {
   "cell_type": "code",
   "execution_count": 3,
   "metadata": {},
   "outputs": [
    {
     "name": "stdout",
     "output_type": "stream",
     "text": [
      "Found 18956 validated image filenames.\n",
      "Found 4739 validated image filenames.\n"
     ]
    }
   ],
   "source": [
    "BATCH_SIZE = 32\n",
    "INPUT_SIZE = (224, 224)\n",
    "\n",
    "# Data Generator\n",
    "train_datagen = ImageDataGenerator(rescale = 1./255)\n",
    "test_datagen = ImageDataGenerator(rescale = 1./255)\n",
    "\n",
    "train_generator = train_datagen.flow_from_dataframe(\n",
    "    train_df,\n",
    "    directory = image_dir,\n",
    "    x_col = \"name\",\n",
    "    y_col = [\"AKIEC\",\"BCC\",\"BKL\",\"DF\",\"MEL\",\"NV\",\"VASC\"],\n",
    "    target_size = INPUT_SIZE,\n",
    "    batch_size = BATCH_SIZE,\n",
    "    class_mode = \"raw\"\n",
    ")\n",
    "\n",
    "test_generator = test_datagen.flow_from_dataframe(\n",
    "    test_df,\n",
    "    directory = image_dir,\n",
    "    x_col = \"name\",\n",
    "    y_col = [\"AKIEC\",\"BCC\",\"BKL\",\"DF\",\"MEL\",\"NV\",\"VASC\"],\n",
    "    target_size = INPUT_SIZE,\n",
    "    batch_size = BATCH_SIZE,\n",
    "    class_mode = \"raw\"\n",
    ")"
   ]
  },
  {
   "cell_type": "code",
   "execution_count": 4,
   "metadata": {},
   "outputs": [],
   "source": [
    "# Define Encoder\n",
    "densenet = tf.keras.applications.DenseNet169(\n",
    "    include_top = False, \n",
    "    weights = \"imagenet\",\n",
    "    input_shape = (224,224,3), \n",
    "  )\n",
    "densenet.Trainable = False\n",
    "\n",
    "# Define Network\n",
    "x = GlobalAveragePooling2D()(densenet.output)\n",
    "x = Dense(units = 256, activation = 'relu')(x)\n",
    "x = Dropout(0.4)(x)\n",
    "x = BatchNormalization()(x)\n",
    "x = Dense(units = 128, activation = 'relu')(x)\n",
    "x = Dropout(0.1)(x)\n",
    "x = Dense(units = 64, activation = 'relu')(x)\n",
    "pred = Dense(units = 7, activation = 'softmax', kernel_regularizer = l2(l = 0.01))(x)\n",
    "\n",
    "model = keras.models.Model(inputs = densenet.input, outputs = pred)\n",
    "\n",
    "# model.summary()"
   ]
  },
  {
   "cell_type": "code",
   "execution_count": 5,
   "metadata": {},
   "outputs": [],
   "source": [
    "# Compile Model\n",
    "model.compile(\n",
    "    optimizer = tf.keras.optimizers.Adam(),\n",
    "    loss = 'categorical_crossentropy',\n",
    "    metrics   = ['accuracy']\n",
    "  )"
   ]
  },
  {
   "cell_type": "code",
   "execution_count": 6,
   "metadata": {},
   "outputs": [
    {
     "name": "stdout",
     "output_type": "stream",
     "text": [
      "WARNING:tensorflow:`period` argument is deprecated. Please use `save_freq` to specify the frequency in number of batches seen.\n"
     ]
    }
   ],
   "source": [
    "checkpoint_filepath = './tmp/checkpoint/cp-{epoch:04d}.h5'\n",
    "model_checkpoint_callback = tf.keras.callbacks.ModelCheckpoint(\n",
    "    filepath=checkpoint_filepath,\n",
    "    save_weights_only=True,\n",
    "    monitor='val_acc',\n",
    "    period=1,\n",
    "    mode='auto',\n",
    "    save_best_only=False)"
   ]
  },
  {
   "cell_type": "code",
   "execution_count": 7,
   "metadata": {},
   "outputs": [
    {
     "name": "stdout",
     "output_type": "stream",
     "text": [
      "Epoch 1/30\n",
      "592/592 [==============================] - 859s 1s/step - loss: 0.6972 - accuracy: 0.7811 - val_loss: 0.8827 - val_accuracy: 0.7876\n",
      "Epoch 2/30\n",
      "592/592 [==============================] - 866s 1s/step - loss: 0.5931 - accuracy: 0.7910 - val_loss: 0.5856 - val_accuracy: 0.7960\n",
      "Epoch 3/30\n",
      "592/592 [==============================] - 870s 1s/step - loss: 0.5535 - accuracy: 0.7945 - val_loss: 0.6062 - val_accuracy: 0.8091\n",
      "Epoch 4/30\n",
      "592/592 [==============================] - 880s 1s/step - loss: 0.5301 - accuracy: 0.8017 - val_loss: 0.6428 - val_accuracy: 0.8036\n",
      "Epoch 5/30\n",
      "592/592 [==============================] - 872s 1s/step - loss: 0.5166 - accuracy: 0.8057 - val_loss: 0.6004 - val_accuracy: 0.8057\n",
      "Epoch 6/30\n",
      "592/592 [==============================] - 872s 1s/step - loss: 0.5067 - accuracy: 0.8103 - val_loss: 0.8371 - val_accuracy: 0.7931\n",
      "Epoch 7/30\n",
      "592/592 [==============================] - 868s 1s/step - loss: 0.4950 - accuracy: 0.8137 - val_loss: 0.7320 - val_accuracy: 0.7006\n",
      "Epoch 8/30\n",
      "592/592 [==============================] - 863s 1s/step - loss: 0.4847 - accuracy: 0.8146 - val_loss: 0.7080 - val_accuracy: 0.7935\n",
      "Epoch 9/30\n",
      "592/592 [==============================] - 869s 1s/step - loss: 0.4731 - accuracy: 0.8221 - val_loss: 0.6039 - val_accuracy: 0.7994\n",
      "Epoch 10/30\n",
      "592/592 [==============================] - 863s 1s/step - loss: 0.4618 - accuracy: 0.8285 - val_loss: 0.5454 - val_accuracy: 0.8091\n",
      "Epoch 11/30\n",
      "592/592 [==============================] - 864s 1s/step - loss: 0.4494 - accuracy: 0.8328 - val_loss: 0.5260 - val_accuracy: 0.8209\n",
      "Epoch 12/30\n",
      "592/592 [==============================] - 869s 1s/step - loss: 0.4552 - accuracy: 0.8287 - val_loss: 0.5480 - val_accuracy: 0.8174\n",
      "Epoch 13/30\n",
      "592/592 [==============================] - 864s 1s/step - loss: 0.4340 - accuracy: 0.8354 - val_loss: 0.6114 - val_accuracy: 0.8273\n",
      "Epoch 14/30\n",
      "592/592 [==============================] - 866s 1s/step - loss: 0.4307 - accuracy: 0.8395 - val_loss: 0.8126 - val_accuracy: 0.7785\n",
      "Epoch 15/30\n",
      "592/592 [==============================] - 861s 1s/step - loss: 0.4163 - accuracy: 0.8458 - val_loss: 0.4842 - val_accuracy: 0.8351\n",
      "Epoch 16/30\n",
      "592/592 [==============================] - 859s 1s/step - loss: 0.4068 - accuracy: 0.8487 - val_loss: 0.5075 - val_accuracy: 0.8330\n",
      "Epoch 17/30\n",
      "592/592 [==============================] - 864s 1s/step - loss: 0.4126 - accuracy: 0.8469 - val_loss: 0.4923 - val_accuracy: 0.8292\n",
      "Epoch 18/30\n",
      "592/592 [==============================] - 867s 1s/step - loss: 0.4429 - accuracy: 0.8345 - val_loss: 0.7826 - val_accuracy: 0.7988\n",
      "Epoch 19/30\n",
      "592/592 [==============================] - 863s 1s/step - loss: 0.6319 - accuracy: 0.7980 - val_loss: 0.8350 - val_accuracy: 0.7908\n",
      "Epoch 20/30\n",
      "592/592 [==============================] - 861s 1s/step - loss: 0.8965 - accuracy: 0.7664 - val_loss: 1.9162 - val_accuracy: 0.7895\n",
      "Epoch 21/30\n",
      "592/592 [==============================] - 865s 1s/step - loss: 1.4128 - accuracy: 0.7395 - val_loss: 1.0317 - val_accuracy: 0.7834\n",
      "Epoch 22/30\n",
      "592/592 [==============================] - 870s 1s/step - loss: 2.3615 - accuracy: 0.7288 - val_loss: 2.1649 - val_accuracy: 0.7899\n",
      "Epoch 23/30\n",
      "592/592 [==============================] - 866s 1s/step - loss: 3.5739 - accuracy: 0.7073 - val_loss: 4.2511 - val_accuracy: 0.7889\n",
      "Epoch 24/30\n",
      "592/592 [==============================] - 860s 1s/step - loss: 5.6440 - accuracy: 0.6981 - val_loss: 3.4706 - val_accuracy: 0.7886\n",
      "Epoch 25/30\n",
      "592/592 [==============================] - 859s 1s/step - loss: 8.1015 - accuracy: 0.6921 - val_loss: 1.8457 - val_accuracy: 0.7306\n",
      "Epoch 26/30\n",
      "592/592 [==============================] - 859s 1s/step - loss: 10.6800 - accuracy: 0.6821 - val_loss: 8.0641 - val_accuracy: 0.0709\n",
      "Epoch 27/30\n",
      "592/592 [==============================] - 859s 1s/step - loss: 14.3582 - accuracy: 0.6725 - val_loss: 8.8416 - val_accuracy: 0.7878\n",
      "Epoch 28/30\n",
      "592/592 [==============================] - 856s 1s/step - loss: 21.4745 - accuracy: 0.6714 - val_loss: 9.6793 - val_accuracy: 0.7886\n",
      "Epoch 29/30\n",
      "592/592 [==============================] - 857s 1s/step - loss: 26.7537 - accuracy: 0.6783 - val_loss: 3.5800 - val_accuracy: 0.7215\n",
      "Epoch 30/30\n",
      "592/592 [==============================] - 856s 1s/step - loss: 28.5402 - accuracy: 0.6735 - val_loss: 35.4399 - val_accuracy: 0.7350\n"
     ]
    }
   ],
   "source": [
    "# Fit model\n",
    "history = model.fit(\n",
    "    train_generator,\n",
    "    steps_per_epoch = 592,\n",
    "    epochs = 30,\n",
    "    validation_data = test_generator,\n",
    "    validation_steps = 148,\n",
    "    callbacks=[model_checkpoint_callback]\n",
    "  )"
   ]
  },
  {
   "cell_type": "code",
   "execution_count": 8,
   "metadata": {},
   "outputs": [],
   "source": [
    "model.save('./densenet_skin_1.h5')"
   ]
  },
  {
   "cell_type": "code",
   "execution_count": 9,
   "metadata": {},
   "outputs": [],
   "source": [
    "acc      = history.history['accuracy']\n",
    "val_acc  = history.history['val_accuracy']\n",
    "loss     = history.history['loss']\n",
    "val_loss = history.history['val_loss']"
   ]
  },
  {
   "cell_type": "code",
   "execution_count": 10,
   "metadata": {},
   "outputs": [
    {
     "data": {
      "text/plain": [
       "[<matplotlib.lines.Line2D at 0x2049b9c54c8>]"
      ]
     },
     "execution_count": 10,
     "metadata": {},
     "output_type": "execute_result"
    },
    {
     "data": {
      "image/png": "[encoded data removed]",
      "text/plain": [
       "<Figure size 432x288 with 1 Axes>"
      ]
     },
     "metadata": {
      "needs_background": "light"
     },
     "output_type": "display_data"
    }
   ],
   "source": [
    "epochs = range(len(loss))\n",
    "plt.plot(epochs,loss,\"b\",label=\"Training loss\")\n",
    "plt.plot(epochs,val_loss,\"g\",label=\"validation loss\")"
   ]
  },
  {
   "cell_type": "code",
   "execution_count": 11,
   "metadata": {},
   "outputs": [
    {
     "data": {
      "text/plain": [
       "[<matplotlib.lines.Line2D at 0x2049b9b2688>]"
      ]
     },
     "execution_count": 11,
     "metadata": {},
     "output_type": "execute_result"
    },
    {
     "data": {
      "image/png": "[encoded data removed]",
      "text/plain": [
       "<Figure size 432x288 with 1 Axes>"
      ]
     },
     "metadata": {
      "needs_background": "light"
     },
     "output_type": "display_data"
    }
   ],
   "source": [
    "plt.plot(epochs,acc,\"b\",label=\"Training accuracy\")\n",
    "plt.plot(epochs,val_acc,\"g\",label=\"validation accuracy\")"
   ]
  },
  {
   "cell_type": "code",
   "execution_count": null,
   "metadata": {},
   "outputs": [],
   "source": []
  }
 ],
 "metadata": {
  "kernelspec": {
   "display_name": "Python 3",
   "language": "python",
   "name": "python3"
  },
  "language_info": {
   "codemirror_mode": {
    "name": "ipython",
    "version": 3
   },
   "file_extension": ".py",
   "mimetype": "text/x-python",
   "name": "python",
   "nbconvert_exporter": "python",
   "pygments_lexer": "ipython3",
   "version": "3.7.4"
  }
 },
 "nbformat": 4,
 "nbformat_minor": 4
}
