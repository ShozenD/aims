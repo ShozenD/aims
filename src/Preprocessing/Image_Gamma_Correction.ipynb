{
 "cells": [
  {
   "cell_type": "code",
   "execution_count": 13,
   "metadata": {},
   "outputs": [],
   "source": [
    "import glob\n",
    "import numpy as np\n",
    "import cv2\n",
    "import matplotlib.pyplot as plt\n",
    "from math import e"
   ]
  },
  {
   "cell_type": "code",
   "execution_count": 2,
   "metadata": {},
   "outputs": [],
   "source": [
    "image_paths = glob.glob(\"./monitor-images(Processed)/*.jpg\")"
   ]
  },
  {
   "cell_type": "code",
   "execution_count": 15,
   "metadata": {},
   "outputs": [],
   "source": [
    "def adjust_gamma(image, gamma=1.5):\n",
    "    invGamma = 1.0 / gamma\n",
    "    table = np.array([((i / 255.0) ** invGamma) * 255\n",
    "        for i in np.arange(0, 256)]).astype(\"uint8\")\n",
    "    return cv2.LUT(image, table)"
   ]
  },
  {
   "cell_type": "code",
   "execution_count": 24,
   "metadata": {},
   "outputs": [],
   "source": [
    "for image_path in image_paths:\n",
    "    target = 150\n",
    "    image = cv2.imread(image_path)\n",
    "    orig_brightness = np.mean(image)\n",
    "    if orig_brightness < target:\n",
    "        gamma_value = 7.1728*(e**(-0.013*orig_brightness))\n",
    "        gamma_adjusted = adjust_gamma(image, gamma_value)\n",
    "        current_brightness = np.mean(gamma_adjusted)\n",
    "        while not (target-2) < current_brightness < (target+2):\n",
    "            gamma_adjusted = adjust_gamma(image, gamma_value)\n",
    "            current_brightness = np.mean(gamma_adjusted)\n",
    "            if gamma_value > 0.1:\n",
    "                if current_brightness < target:\n",
    "                    gamma_value = gamma_value+0.01\n",
    "                elif current_brightness > target:\n",
    "                    gamma_value = gamma_value-0.01\n",
    "                else:\n",
    "                    break\n",
    "            else:\n",
    "                break\n",
    "        cv2.imwrite(image_path,gamma_adjusted)"
   ]
  },
  {
   "cell_type": "code",
   "execution_count": null,
   "metadata": {},
   "outputs": [],
   "source": []
  }
 ],
 "metadata": {
  "kernelspec": {
   "display_name": "Python 3",
   "language": "python",
   "name": "python3"
  },
  "language_info": {
   "codemirror_mode": {
    "name": "ipython",
    "version": 3
   },
   "file_extension": ".py",
   "mimetype": "text/x-python",
   "name": "python",
   "nbconvert_exporter": "python",
   "pygments_lexer": "ipython3",
   "version": "3.7.4"
  }
 },
 "nbformat": 4,
 "nbformat_minor": 4
}
